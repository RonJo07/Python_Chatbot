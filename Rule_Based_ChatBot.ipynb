{
  "nbformat": 4,
  "nbformat_minor": 0,
  "metadata": {
    "colab": {
      "provenance": [],
      "toc_visible": true,
      "authorship_tag": "ABX9TyN0j5CDOTaYvSdF39UoJrUL",
      "include_colab_link": true
    },
    "kernelspec": {
      "name": "python3",
      "display_name": "Python 3"
    },
    "language_info": {
      "name": "python"
    }
  },
  "cells": [
    {
      "cell_type": "markdown",
      "metadata": {
        "id": "view-in-github",
        "colab_type": "text"
      },
      "source": [
        "<a href=\"https://colab.research.google.com/github/RonJo07/Python_Chatbot/blob/main/Rule_Based_ChatBot.ipynb\" target=\"_parent\"><img src=\"https://colab.research.google.com/assets/colab-badge.svg\" alt=\"Open In Colab\"/></a>"
      ]
    },
    {
      "cell_type": "code",
      "execution_count": null,
      "metadata": {
        "colab": {
          "base_uri": "https://localhost:8080/"
        },
        "id": "xHw8LoqYy3Ah",
        "outputId": "04df3a80-6d7f-4c68-a36e-f3be92f39f17"
      },
      "outputs": [
        {
          "output_type": "stream",
          "name": "stdout",
          "text": [
            "Welcome to the Simple Chatbot! Type 'bye' to exit.\n"
          ]
        }
      ],
      "source": [
        "class SimpleChatbot:\n",
        "    def __init__(self):\n",
        "        self.responses = {\n",
        "            \"hello\": \"Hello! How can I assist you today?\",\n",
        "            \"hi\": \"Hi there! How can I help you?\",\n",
        "            \"how are you\": \"I'm just a program, but I'm doing great! How about you?\",\n",
        "            \"what's your name\": \"I'm a simple chatbot created to assist you.\",\n",
        "            \"help\": \"Sure, I'm here to help! What do you need assistance with?\",\n",
        "            \"bye\": \"Goodbye! Have a great day!\"\n",
        "        }\n",
        "\n",
        "    def respond(self, user_input):\n",
        "        user_input = user_input.lower()\n",
        "        return self.responses.get(user_input, \"I'm sorry, I didn't understand that. Can you please rephrase?\")\n",
        "\n",
        "# Create an instance of the SimpleChatbot\n",
        "chatbot = SimpleChatbot()\n",
        "\n",
        "# Function to interact with the chatbot\n",
        "def chat():\n",
        "    print(\"Welcome to the Simple Chatbot! Type 'bye' to exit.\")\n",
        "    while True:\n",
        "        user_input = input(\"You: \")\n",
        "        if user_input.lower() == 'bye':\n",
        "            print(\"Chatbot: Goodbye! Have a great day!\")\n",
        "            break\n",
        "        response = chatbot.respond(user_input)\n",
        "        print(f\"Chatbot: {response}\")\n",
        "\n",
        "# Start the chat\n",
        "chat()\n"
      ]
    }
  ]
}